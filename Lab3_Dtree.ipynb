{
 "cells": [
  {
   "cell_type": "markdown",
   "metadata": {},
   "source": [
    "#### Import required libraries"
   ]
  },
  {
   "cell_type": "code",
   "execution_count": 109,
   "metadata": {},
   "outputs": [],
   "source": [
    "import pandas as pd\n",
    "from sklearn.tree import DecisionTreeClassifier\n",
    "from sklearn.model_selection import train_test_split\n",
    "from sklearn.preprocessing import LabelEncoder\n",
    "from sklearn import metrics\n",
    "from sklearn import tree\n",
    "from matplotlib import pyplot as plt\n",
    "from sklearn.metrics import precision_recall_fscore_support as score\n",
    "%matplotlib inline"
   ]
  },
  {
   "cell_type": "markdown",
   "metadata": {},
   "source": [
    "#### Import data from csv file"
   ]
  },
  {
   "cell_type": "code",
   "execution_count": 110,
   "metadata": {},
   "outputs": [],
   "source": [
    "cars = pd.read_csv(\"carAuction.csv\")"
   ]
  },
  {
   "cell_type": "markdown",
   "metadata": {},
   "source": [
    "#### Display head of the dataset"
   ]
  },
  {
   "cell_type": "code",
   "execution_count": 111,
   "metadata": {},
   "outputs": [
    {
     "data": {
      "text/html": [
       "<div>\n",
       "<style scoped>\n",
       "    .dataframe tbody tr th:only-of-type {\n",
       "        vertical-align: middle;\n",
       "    }\n",
       "\n",
       "    .dataframe tbody tr th {\n",
       "        vertical-align: top;\n",
       "    }\n",
       "\n",
       "    .dataframe thead th {\n",
       "        text-align: right;\n",
       "    }\n",
       "</style>\n",
       "<table border=\"1\" class=\"dataframe\">\n",
       "  <thead>\n",
       "    <tr style=\"text-align: right;\">\n",
       "      <th></th>\n",
       "      <th>Auction</th>\n",
       "      <th>Color</th>\n",
       "      <th>IsBadBuy</th>\n",
       "      <th>MMRCurrentAuctionAveragePrice</th>\n",
       "      <th>Size</th>\n",
       "      <th>TopThreeAmericanName</th>\n",
       "      <th>VehBCost</th>\n",
       "      <th>VehicleAge</th>\n",
       "      <th>VehOdo</th>\n",
       "      <th>WarrantyCost</th>\n",
       "      <th>WheelType</th>\n",
       "    </tr>\n",
       "  </thead>\n",
       "  <tbody>\n",
       "    <tr>\n",
       "      <th>0</th>\n",
       "      <td>ADESA</td>\n",
       "      <td>WHITE</td>\n",
       "      <td>No</td>\n",
       "      <td>2871</td>\n",
       "      <td>LARGE TRUCK</td>\n",
       "      <td>FORD</td>\n",
       "      <td>5300</td>\n",
       "      <td>8</td>\n",
       "      <td>75419</td>\n",
       "      <td>869</td>\n",
       "      <td>Alloy</td>\n",
       "    </tr>\n",
       "    <tr>\n",
       "      <th>1</th>\n",
       "      <td>ADESA</td>\n",
       "      <td>GOLD</td>\n",
       "      <td>Yes</td>\n",
       "      <td>1840</td>\n",
       "      <td>VAN</td>\n",
       "      <td>FORD</td>\n",
       "      <td>3600</td>\n",
       "      <td>8</td>\n",
       "      <td>82944</td>\n",
       "      <td>2322</td>\n",
       "      <td>Alloy</td>\n",
       "    </tr>\n",
       "    <tr>\n",
       "      <th>2</th>\n",
       "      <td>ADESA</td>\n",
       "      <td>RED</td>\n",
       "      <td>No</td>\n",
       "      <td>8931</td>\n",
       "      <td>SMALL SUV</td>\n",
       "      <td>CHRYSLER</td>\n",
       "      <td>7500</td>\n",
       "      <td>4</td>\n",
       "      <td>57338</td>\n",
       "      <td>588</td>\n",
       "      <td>Alloy</td>\n",
       "    </tr>\n",
       "    <tr>\n",
       "      <th>3</th>\n",
       "      <td>ADESA</td>\n",
       "      <td>GOLD</td>\n",
       "      <td>No</td>\n",
       "      <td>8320</td>\n",
       "      <td>CROSSOVER</td>\n",
       "      <td>FORD</td>\n",
       "      <td>8500</td>\n",
       "      <td>5</td>\n",
       "      <td>55909</td>\n",
       "      <td>1169</td>\n",
       "      <td>Alloy</td>\n",
       "    </tr>\n",
       "    <tr>\n",
       "      <th>4</th>\n",
       "      <td>ADESA</td>\n",
       "      <td>GREY</td>\n",
       "      <td>No</td>\n",
       "      <td>11520</td>\n",
       "      <td>LARGE TRUCK</td>\n",
       "      <td>FORD</td>\n",
       "      <td>10100</td>\n",
       "      <td>5</td>\n",
       "      <td>86702</td>\n",
       "      <td>853</td>\n",
       "      <td>Alloy</td>\n",
       "    </tr>\n",
       "  </tbody>\n",
       "</table>\n",
       "</div>"
      ],
      "text/plain": [
       "  Auction  Color IsBadBuy  MMRCurrentAuctionAveragePrice         Size  \\\n",
       "0   ADESA  WHITE       No                           2871  LARGE TRUCK   \n",
       "1   ADESA   GOLD      Yes                           1840          VAN   \n",
       "2   ADESA    RED       No                           8931    SMALL SUV   \n",
       "3   ADESA   GOLD       No                           8320    CROSSOVER   \n",
       "4   ADESA   GREY       No                          11520  LARGE TRUCK   \n",
       "\n",
       "  TopThreeAmericanName  VehBCost  VehicleAge  VehOdo  WarrantyCost WheelType  \n",
       "0                 FORD      5300           8   75419           869     Alloy  \n",
       "1                 FORD      3600           8   82944          2322     Alloy  \n",
       "2             CHRYSLER      7500           4   57338           588     Alloy  \n",
       "3                 FORD      8500           5   55909          1169     Alloy  \n",
       "4                 FORD     10100           5   86702           853     Alloy  "
      ]
     },
     "execution_count": 111,
     "metadata": {},
     "output_type": "execute_result"
    }
   ],
   "source": [
    "cars.head()"
   ]
  },
  {
   "cell_type": "markdown",
   "metadata": {},
   "source": [
    "#### Divide columns into feature variables and target variables"
   ]
  },
  {
   "cell_type": "code",
   "execution_count": 112,
   "metadata": {},
   "outputs": [],
   "source": [
    "cols = ['Color','MMRCurrentAuctionAveragePrice','Size','TopThreeAmericanName','VehBCost','VehicleAge','VehOdo','WarrantyCost','WheelType']"
   ]
  },
  {
   "cell_type": "code",
   "execution_count": 113,
   "metadata": {},
   "outputs": [],
   "source": [
    "feature = cars[cols]"
   ]
  },
  {
   "cell_type": "code",
   "execution_count": 114,
   "metadata": {},
   "outputs": [],
   "source": [
    "target = cars.IsBadBuy"
   ]
  },
  {
   "cell_type": "markdown",
   "metadata": {},
   "source": [
    "#### Transform non-numerical labels to numerical labels using LabelEncoder"
   ]
  },
  {
   "cell_type": "code",
   "execution_count": 115,
   "metadata": {},
   "outputs": [],
   "source": [
    "target = LabelEncoder().fit_transform(y) #fit_transform returns encoded labels"
   ]
  },
  {
   "cell_type": "code",
   "execution_count": 116,
   "metadata": {
    "scrolled": true
   },
   "outputs": [
    {
     "data": {
      "text/plain": [
       "array([0, 1, 0, ..., 0, 0, 0], dtype=int64)"
      ]
     },
     "execution_count": 116,
     "metadata": {},
     "output_type": "execute_result"
    }
   ],
   "source": [
    "#y has numerics, 0 and 1 in this case as it is a binary\n",
    "target"
   ]
  },
  {
   "cell_type": "code",
   "execution_count": 117,
   "metadata": {
    "scrolled": true
   },
   "outputs": [],
   "source": [
    "feature = feature.apply(LabelEncoder().fit_transform) #fit_transform returns encoded labels"
   ]
  },
  {
   "cell_type": "code",
   "execution_count": 118,
   "metadata": {},
   "outputs": [
    {
     "data": {
      "text/html": [
       "<div>\n",
       "<style scoped>\n",
       "    .dataframe tbody tr th:only-of-type {\n",
       "        vertical-align: middle;\n",
       "    }\n",
       "\n",
       "    .dataframe tbody tr th {\n",
       "        vertical-align: top;\n",
       "    }\n",
       "\n",
       "    .dataframe thead th {\n",
       "        text-align: right;\n",
       "    }\n",
       "</style>\n",
       "<table border=\"1\" class=\"dataframe\">\n",
       "  <thead>\n",
       "    <tr style=\"text-align: right;\">\n",
       "      <th></th>\n",
       "      <th>Color</th>\n",
       "      <th>MMRCurrentAuctionAveragePrice</th>\n",
       "      <th>Size</th>\n",
       "      <th>TopThreeAmericanName</th>\n",
       "      <th>VehBCost</th>\n",
       "      <th>VehicleAge</th>\n",
       "      <th>VehOdo</th>\n",
       "      <th>WarrantyCost</th>\n",
       "      <th>WheelType</th>\n",
       "    </tr>\n",
       "  </thead>\n",
       "  <tbody>\n",
       "    <tr>\n",
       "      <th>0</th>\n",
       "      <td>14</td>\n",
       "      <td>493</td>\n",
       "      <td>4</td>\n",
       "      <td>1</td>\n",
       "      <td>440</td>\n",
       "      <td>7</td>\n",
       "      <td>5060</td>\n",
       "      <td>35</td>\n",
       "      <td>0</td>\n",
       "    </tr>\n",
       "    <tr>\n",
       "      <th>1</th>\n",
       "      <td>4</td>\n",
       "      <td>53</td>\n",
       "      <td>11</td>\n",
       "      <td>1</td>\n",
       "      <td>114</td>\n",
       "      <td>7</td>\n",
       "      <td>6879</td>\n",
       "      <td>184</td>\n",
       "      <td>0</td>\n",
       "    </tr>\n",
       "    <tr>\n",
       "      <th>2</th>\n",
       "      <td>12</td>\n",
       "      <td>4458</td>\n",
       "      <td>7</td>\n",
       "      <td>0</td>\n",
       "      <td>889</td>\n",
       "      <td>3</td>\n",
       "      <td>1750</td>\n",
       "      <td>8</td>\n",
       "      <td>0</td>\n",
       "    </tr>\n",
       "    <tr>\n",
       "      <th>3</th>\n",
       "      <td>4</td>\n",
       "      <td>4129</td>\n",
       "      <td>1</td>\n",
       "      <td>1</td>\n",
       "      <td>1089</td>\n",
       "      <td>4</td>\n",
       "      <td>1594</td>\n",
       "      <td>75</td>\n",
       "      <td>0</td>\n",
       "    </tr>\n",
       "    <tr>\n",
       "      <th>4</th>\n",
       "      <td>6</td>\n",
       "      <td>5188</td>\n",
       "      <td>4</td>\n",
       "      <td>1</td>\n",
       "      <td>1377</td>\n",
       "      <td>4</td>\n",
       "      <td>7712</td>\n",
       "      <td>34</td>\n",
       "      <td>0</td>\n",
       "    </tr>\n",
       "  </tbody>\n",
       "</table>\n",
       "</div>"
      ],
      "text/plain": [
       "   Color  MMRCurrentAuctionAveragePrice  Size  TopThreeAmericanName  VehBCost  \\\n",
       "0     14                            493     4                     1       440   \n",
       "1      4                             53    11                     1       114   \n",
       "2     12                           4458     7                     0       889   \n",
       "3      4                           4129     1                     1      1089   \n",
       "4      6                           5188     4                     1      1377   \n",
       "\n",
       "   VehicleAge  VehOdo  WarrantyCost  WheelType  \n",
       "0           7    5060            35          0  \n",
       "1           7    6879           184          0  \n",
       "2           3    1750             8          0  \n",
       "3           4    1594            75          0  \n",
       "4           4    7712            34          0  "
      ]
     },
     "execution_count": 118,
     "metadata": {},
     "output_type": "execute_result"
    }
   ],
   "source": [
    "#y has numerics assigned based on their values\n",
    "feature.head()"
   ]
  },
  {
   "cell_type": "markdown",
   "metadata": {},
   "source": [
    "#### Split the dataset using train_test_split into trainset and testset"
   ]
  },
  {
   "cell_type": "code",
   "execution_count": 119,
   "metadata": {},
   "outputs": [],
   "source": [
    "feature_train, feature_test, target_train, target_test = train_test_split(feature, target, test_size=0.3, random_state=1) # 70% training and 30% test"
   ]
  },
  {
   "cell_type": "markdown",
   "metadata": {},
   "source": [
    "#### Number of rows and columns in test data and train data"
   ]
  },
  {
   "cell_type": "code",
   "execution_count": 120,
   "metadata": {},
   "outputs": [
    {
     "data": {
      "text/plain": [
       "(7000, 9)"
      ]
     },
     "execution_count": 120,
     "metadata": {},
     "output_type": "execute_result"
    }
   ],
   "source": [
    "feature_train.shape"
   ]
  },
  {
   "cell_type": "code",
   "execution_count": 121,
   "metadata": {},
   "outputs": [
    {
     "data": {
      "text/plain": [
       "(7000,)"
      ]
     },
     "execution_count": 121,
     "metadata": {},
     "output_type": "execute_result"
    }
   ],
   "source": [
    "target_train.shape"
   ]
  },
  {
   "cell_type": "code",
   "execution_count": 122,
   "metadata": {
    "scrolled": true
   },
   "outputs": [
    {
     "data": {
      "text/plain": [
       "(3000, 9)"
      ]
     },
     "execution_count": 122,
     "metadata": {},
     "output_type": "execute_result"
    }
   ],
   "source": [
    "feature_test.shape"
   ]
  },
  {
   "cell_type": "code",
   "execution_count": 123,
   "metadata": {
    "scrolled": true
   },
   "outputs": [
    {
     "data": {
      "text/plain": [
       "(3000,)"
      ]
     },
     "execution_count": 123,
     "metadata": {},
     "output_type": "execute_result"
    }
   ],
   "source": [
    "target_test.shape"
   ]
  },
  {
   "cell_type": "code",
   "execution_count": 126,
   "metadata": {},
   "outputs": [
    {
     "data": {
      "text/plain": [
       "array([0, 0, 0, ..., 0, 1, 0], dtype=int64)"
      ]
     },
     "execution_count": 126,
     "metadata": {},
     "output_type": "execute_result"
    }
   ],
   "source": [
    "target_train"
   ]
  },
  {
   "cell_type": "markdown",
   "metadata": {},
   "source": [
    "#### Proportion of target variable for both training and testing datasets"
   ]
  },
  {
   "cell_type": "code",
   "execution_count": 127,
   "metadata": {},
   "outputs": [
    {
     "name": "stdout",
     "output_type": "stream",
     "text": [
      "Yes 0.132\n",
      "No  0.868\n"
     ]
    }
   ],
   "source": [
    "print(\"Yes\",target_train.sum() / target_train.size) # As the target variable is binary, total sum divided by count gives \"yes\" percentage in the data\n",
    "print(\"No \",1- (target_train.sum() / target_train.size)) # 1-\"yes\" gives \"No\"\n"
   ]
  },
  {
   "cell_type": "code",
   "execution_count": 128,
   "metadata": {},
   "outputs": [
    {
     "name": "stdout",
     "output_type": "stream",
     "text": [
      "Yes 0.12366666666666666\n",
      "No  0.8763333333333333\n"
     ]
    }
   ],
   "source": [
    "print(\"Yes\",target_test.sum() / target_test.size)\n",
    "print(\"No \",1-(target_test.sum() / target_test.size))\n"
   ]
  },
  {
   "cell_type": "markdown",
   "metadata": {},
   "source": [
    "#### Create Decision Tree Model using Scikit-learn"
   ]
  },
  {
   "cell_type": "code",
   "execution_count": 157,
   "metadata": {},
   "outputs": [],
   "source": [
    "# Create Decision Tree classifer object, use max_leaf_nodes and max_depth to change decision tree depth and detail\n",
    "clf = DecisionTreeClassifier(criterion = \"entropy\", random_state = 100, max_leaf_nodes=8, max_depth=3)\n",
    "\n",
    "# Train Decision Tree Classifer\n",
    "clf = clf.fit(feature_train,target_train)\n",
    "\n",
    "#Predict the response for test dataset\n",
    "test_pred = clf.predict(feature_test)\n",
    "\n",
    "#Predict the response for train dataset\n",
    "train_pred = clf.predict(feature_train)"
   ]
  },
  {
   "cell_type": "markdown",
   "metadata": {},
   "source": [
    "#### Accuracy of the testset and trainset"
   ]
  },
  {
   "cell_type": "code",
   "execution_count": 158,
   "metadata": {
    "scrolled": true
   },
   "outputs": [
    {
     "name": "stdout",
     "output_type": "stream",
     "text": [
      "Trainset Accuracy: 0.89\n",
      "Testset Accuracy: 0.9016666666666666\n"
     ]
    }
   ],
   "source": [
    "print(\"Trainset Accuracy:\",metrics.accuracy_score(target_train, train_pred))\n",
    "print(\"Testset Accuracy:\",metrics.accuracy_score(target_test, test_pred))"
   ]
  },
  {
   "cell_type": "markdown",
   "metadata": {},
   "source": [
    "#### Confusion matrix of trainset"
   ]
  },
  {
   "cell_type": "code",
   "execution_count": 159,
   "metadata": {
    "scrolled": true
   },
   "outputs": [
    {
     "data": {
      "text/plain": [
       "array([[5994,   82],\n",
       "       [ 688,  236]], dtype=int64)"
      ]
     },
     "execution_count": 159,
     "metadata": {},
     "output_type": "execute_result"
    }
   ],
   "source": [
    "metrics.confusion_matrix(target_train,train_pred)"
   ]
  },
  {
   "cell_type": "markdown",
   "metadata": {},
   "source": [
    "#### Confusion matrix of testset"
   ]
  },
  {
   "cell_type": "code",
   "execution_count": 160,
   "metadata": {
    "scrolled": true
   },
   "outputs": [
    {
     "data": {
      "text/plain": [
       "array([[2603,   26],\n",
       "       [ 269,  102]], dtype=int64)"
      ]
     },
     "execution_count": 160,
     "metadata": {},
     "output_type": "execute_result"
    }
   ],
   "source": [
    "metrics.confusion_matrix(target_test,test_pred)"
   ]
  },
  {
   "cell_type": "markdown",
   "metadata": {},
   "source": [
    "#### Precision, recall and fscore of trainset"
   ]
  },
  {
   "cell_type": "code",
   "execution_count": 161,
   "metadata": {},
   "outputs": [
    {
     "name": "stdout",
     "output_type": "stream",
     "text": [
      "precision: [0.89703682 0.74213836]\n",
      "recall: [0.98650428 0.25541126]\n",
      "fscore: [0.93964571 0.38003221]\n",
      "support: [6076  924]\n"
     ]
    }
   ],
   "source": [
    "precision, recall, fscore, support = score(target_train, train_pred)\n",
    "\n",
    "print('precision: {}'.format(precision))\n",
    "print('recall: {}'.format(recall))\n",
    "print('fscore: {}'.format(fscore))\n",
    "print('support: {}'.format(support))"
   ]
  },
  {
   "cell_type": "markdown",
   "metadata": {},
   "source": [
    "#### Precision, recall and fscore of testset"
   ]
  },
  {
   "cell_type": "code",
   "execution_count": 162,
   "metadata": {},
   "outputs": [
    {
     "name": "stdout",
     "output_type": "stream",
     "text": [
      "precision: [0.90633705 0.796875  ]\n",
      "recall: [0.99011031 0.27493261]\n",
      "fscore: [0.94637339 0.40881764]\n",
      "support: [2629  371]\n"
     ]
    }
   ],
   "source": [
    "predicted = y_pred\n",
    "y_test = y_test\n",
    "\n",
    "precision, recall, fscore, support = score(target_test, test_pred)\n",
    "\n",
    "print('precision: {}'.format(precision))\n",
    "print('recall: {}'.format(recall))\n",
    "print('fscore: {}'.format(fscore))\n",
    "print('support: {}'.format(support))"
   ]
  },
  {
   "cell_type": "markdown",
   "metadata": {},
   "source": [
    "#### Text representation of the model"
   ]
  },
  {
   "cell_type": "code",
   "execution_count": 163,
   "metadata": {},
   "outputs": [
    {
     "name": "stdout",
     "output_type": "stream",
     "text": [
      "|--- WheelType <= 2.50\n",
      "|   |--- VehicleAge <= 3.50\n",
      "|   |   |--- MMRCurrentAuctionAveragePrice <= 2733.50\n",
      "|   |   |   |--- class: 0\n",
      "|   |   |--- MMRCurrentAuctionAveragePrice >  2733.50\n",
      "|   |   |   |--- class: 0\n",
      "|   |--- VehicleAge >  3.50\n",
      "|   |   |--- VehBCost <= 190.00\n",
      "|   |   |   |--- class: 0\n",
      "|   |   |--- VehBCost >  190.00\n",
      "|   |   |   |--- class: 0\n",
      "|--- WheelType >  2.50\n",
      "|   |--- VehOdo <= 8735.50\n",
      "|   |   |--- VehOdo <= 1382.00\n",
      "|   |   |   |--- class: 1\n",
      "|   |   |--- VehOdo >  1382.00\n",
      "|   |   |   |--- class: 1\n",
      "|   |--- VehOdo >  8735.50\n",
      "|   |   |--- class: 1\n",
      "\n"
     ]
    }
   ],
   "source": [
    "feature_names = cols\n",
    "target_names = cars['IsBadBuy'].unique().tolist()\n",
    "\n",
    "text_representation = tree.export_text(clf,feature_names = feature_names)\n",
    "print(text_representation)"
   ]
  },
  {
   "cell_type": "markdown",
   "metadata": {},
   "source": [
    "#### Plot decision tree"
   ]
  },
  {
   "cell_type": "code",
   "execution_count": 164,
   "metadata": {},
   "outputs": [
    {
     "data": {
      "image/png": "[encoded data removed]",
      "text/plain": [
       "<Figure size 1800x1440 with 1 Axes>"
      ]
     },
     "metadata": {
      "needs_background": "light"
     },
     "output_type": "display_data"
    }
   ],
   "source": [
    "fig = plt.figure(figsize=(25,20))\n",
    "dtree = tree.plot_tree(clf, \n",
    "                   feature_names=cols,  \n",
    "                   class_names=target_names,\n",
    "                   filled=True)"
   ]
  }
 ],
 "metadata": {
  "kernelspec": {
   "display_name": "Python 3",
   "language": "python",
   "name": "python3"
  },
  "language_info": {
   "codemirror_mode": {
    "name": "ipython",
    "version": 3
   },
   "file_extension": ".py",
   "mimetype": "text/x-python",
   "name": "python",
   "nbconvert_exporter": "python",
   "pygments_lexer": "ipython3",
   "version": "3.8.3"
  }
 },
 "nbformat": 4,
 "nbformat_minor": 4
}
