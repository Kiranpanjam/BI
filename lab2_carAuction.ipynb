{
 "cells": [
  {
   "cell_type": "markdown",
   "metadata": {},
   "source": [
    "#### Import required libraries"
   ]
  },
  {
   "cell_type": "code",
   "execution_count": 2,
   "metadata": {},
   "outputs": [],
   "source": [
    "import pandas as pd\n",
    "import numpy as np\n",
    "import matplotlib.pyplot as plt\n",
    "%matplotlib inline"
   ]
  },
  {
   "cell_type": "markdown",
   "metadata": {},
   "source": [
    "#### Import data from csv file"
   ]
  },
  {
   "cell_type": "code",
   "execution_count": 3,
   "metadata": {},
   "outputs": [],
   "source": [
    "cars = pd.read_csv(\"carAuction.csv\")"
   ]
  },
  {
   "cell_type": "markdown",
   "metadata": {},
   "source": [
    "#### Number of rows and columns"
   ]
  },
  {
   "cell_type": "code",
   "execution_count": 4,
   "metadata": {},
   "outputs": [
    {
     "name": "stdout",
     "output_type": "stream",
     "text": [
      "(10000, 11)\n",
      "10000\n",
      "11\n"
     ]
    }
   ],
   "source": [
    "print(cars.shape)\n",
    "print(cars.shape[0])\n",
    "print(cars.shape[1])"
   ]
  },
  {
   "cell_type": "markdown",
   "metadata": {},
   "source": [
    "#### Show structure of the data"
   ]
  },
  {
   "cell_type": "code",
   "execution_count": 5,
   "metadata": {},
   "outputs": [
    {
     "data": {
      "text/plain": [
       "Auction                          object\n",
       "Color                            object\n",
       "IsBadBuy                         object\n",
       "MMRCurrentAuctionAveragePrice     int64\n",
       "Size                             object\n",
       "TopThreeAmericanName             object\n",
       "VehBCost                          int64\n",
       "VehicleAge                        int64\n",
       "VehOdo                            int64\n",
       "WarrantyCost                      int64\n",
       "WheelType                        object\n",
       "dtype: object"
      ]
     },
     "execution_count": 5,
     "metadata": {},
     "output_type": "execute_result"
    }
   ],
   "source": [
    "cars.dtypes"
   ]
  },
  {
   "cell_type": "markdown",
   "metadata": {},
   "source": [
    "#### Summary of the data set"
   ]
  },
  {
   "cell_type": "code",
   "execution_count": 6,
   "metadata": {
    "scrolled": true
   },
   "outputs": [
    {
     "data": {
      "text/html": [
       "<div>\n",
       "<style scoped>\n",
       "    .dataframe tbody tr th:only-of-type {\n",
       "        vertical-align: middle;\n",
       "    }\n",
       "\n",
       "    .dataframe tbody tr th {\n",
       "        vertical-align: top;\n",
       "    }\n",
       "\n",
       "    .dataframe thead th {\n",
       "        text-align: right;\n",
       "    }\n",
       "</style>\n",
       "<table border=\"1\" class=\"dataframe\">\n",
       "  <thead>\n",
       "    <tr style=\"text-align: right;\">\n",
       "      <th></th>\n",
       "      <th>MMRCurrentAuctionAveragePrice</th>\n",
       "      <th>VehBCost</th>\n",
       "      <th>VehicleAge</th>\n",
       "      <th>VehOdo</th>\n",
       "      <th>WarrantyCost</th>\n",
       "    </tr>\n",
       "  </thead>\n",
       "  <tbody>\n",
       "    <tr>\n",
       "      <th>count</th>\n",
       "      <td>10000.000000</td>\n",
       "      <td>10000.000000</td>\n",
       "      <td>10000.000000</td>\n",
       "      <td>10000.000000</td>\n",
       "      <td>10000.000000</td>\n",
       "    </tr>\n",
       "    <tr>\n",
       "      <th>mean</th>\n",
       "      <td>6116.216000</td>\n",
       "      <td>6720.207200</td>\n",
       "      <td>4.182900</td>\n",
       "      <td>71541.084100</td>\n",
       "      <td>1279.954000</td>\n",
       "    </tr>\n",
       "    <tr>\n",
       "      <th>std</th>\n",
       "      <td>2426.340132</td>\n",
       "      <td>1753.796382</td>\n",
       "      <td>1.714509</td>\n",
       "      <td>14688.317704</td>\n",
       "      <td>609.026443</td>\n",
       "    </tr>\n",
       "    <tr>\n",
       "      <th>min</th>\n",
       "      <td>0.000000</td>\n",
       "      <td>225.000000</td>\n",
       "      <td>1.000000</td>\n",
       "      <td>4825.000000</td>\n",
       "      <td>462.000000</td>\n",
       "    </tr>\n",
       "    <tr>\n",
       "      <th>25%</th>\n",
       "      <td>4255.000000</td>\n",
       "      <td>5435.000000</td>\n",
       "      <td>3.000000</td>\n",
       "      <td>61842.500000</td>\n",
       "      <td>834.000000</td>\n",
       "    </tr>\n",
       "    <tr>\n",
       "      <th>50%</th>\n",
       "      <td>6076.000000</td>\n",
       "      <td>6700.000000</td>\n",
       "      <td>4.000000</td>\n",
       "      <td>73506.500000</td>\n",
       "      <td>1169.000000</td>\n",
       "    </tr>\n",
       "    <tr>\n",
       "      <th>75%</th>\n",
       "      <td>7732.000000</td>\n",
       "      <td>7880.000000</td>\n",
       "      <td>5.000000</td>\n",
       "      <td>82462.500000</td>\n",
       "      <td>1623.000000</td>\n",
       "    </tr>\n",
       "    <tr>\n",
       "      <th>max</th>\n",
       "      <td>27543.000000</td>\n",
       "      <td>29795.000000</td>\n",
       "      <td>9.000000</td>\n",
       "      <td>109734.000000</td>\n",
       "      <td>5913.000000</td>\n",
       "    </tr>\n",
       "  </tbody>\n",
       "</table>\n",
       "</div>"
      ],
      "text/plain": [
       "       MMRCurrentAuctionAveragePrice      VehBCost    VehicleAge  \\\n",
       "count                   10000.000000  10000.000000  10000.000000   \n",
       "mean                     6116.216000   6720.207200      4.182900   \n",
       "std                      2426.340132   1753.796382      1.714509   \n",
       "min                         0.000000    225.000000      1.000000   \n",
       "25%                      4255.000000   5435.000000      3.000000   \n",
       "50%                      6076.000000   6700.000000      4.000000   \n",
       "75%                      7732.000000   7880.000000      5.000000   \n",
       "max                     27543.000000  29795.000000      9.000000   \n",
       "\n",
       "              VehOdo  WarrantyCost  \n",
       "count   10000.000000  10000.000000  \n",
       "mean    71541.084100   1279.954000  \n",
       "std     14688.317704    609.026443  \n",
       "min      4825.000000    462.000000  \n",
       "25%     61842.500000    834.000000  \n",
       "50%     73506.500000   1169.000000  \n",
       "75%     82462.500000   1623.000000  \n",
       "max    109734.000000   5913.000000  "
      ]
     },
     "execution_count": 6,
     "metadata": {},
     "output_type": "execute_result"
    }
   ],
   "source": [
    "cars.describe()"
   ]
  },
  {
   "cell_type": "markdown",
   "metadata": {},
   "source": [
    "#### Show summary of VehOdo"
   ]
  },
  {
   "cell_type": "code",
   "execution_count": 7,
   "metadata": {
    "scrolled": true
   },
   "outputs": [
    {
     "data": {
      "text/plain": [
       "count     10000.000000\n",
       "mean      71541.084100\n",
       "std       14688.317704\n",
       "min        4825.000000\n",
       "25%       61842.500000\n",
       "50%       73506.500000\n",
       "75%       82462.500000\n",
       "max      109734.000000\n",
       "Name: VehOdo, dtype: float64"
      ]
     },
     "execution_count": 7,
     "metadata": {},
     "output_type": "execute_result"
    }
   ],
   "source": [
    "cars['VehOdo'].describe()"
   ]
  },
  {
   "cell_type": "markdown",
   "metadata": {},
   "source": [
    "#### Obtain mean, median, and range of WarrantyCost"
   ]
  },
  {
   "cell_type": "code",
   "execution_count": 11,
   "metadata": {
    "scrolled": true
   },
   "outputs": [
    {
     "data": {
      "text/plain": [
       "1279.954"
      ]
     },
     "execution_count": 11,
     "metadata": {},
     "output_type": "execute_result"
    }
   ],
   "source": [
    "cars['WarrantyCost'].mean()"
   ]
  },
  {
   "cell_type": "code",
   "execution_count": 12,
   "metadata": {},
   "outputs": [
    {
     "data": {
      "text/plain": [
       "1169.0"
      ]
     },
     "execution_count": 12,
     "metadata": {},
     "output_type": "execute_result"
    }
   ],
   "source": [
    "cars['WarrantyCost'].median()"
   ]
  },
  {
   "cell_type": "code",
   "execution_count": 13,
   "metadata": {},
   "outputs": [
    {
     "name": "stdout",
     "output_type": "stream",
     "text": [
      "462\n",
      "5913\n"
     ]
    }
   ],
   "source": [
    "min = cars['WarrantyCost'].min()\n",
    "max = cars['WarrantyCost'].max()\n",
    "\n",
    "print(min)\n",
    "print(max)"
   ]
  },
  {
   "cell_type": "markdown",
   "metadata": {},
   "source": [
    "#### Use quantile to calculate the five-number summary for WarrantyCost\n"
   ]
  },
  {
   "cell_type": "code",
   "execution_count": 15,
   "metadata": {
    "scrolled": true
   },
   "outputs": [
    {
     "data": {
      "text/plain": [
       "0.00     462.0\n",
       "0.25     834.0\n",
       "0.50    1169.0\n",
       "0.75    1623.0\n",
       "1.00    5913.0\n",
       "Name: WarrantyCost, dtype: float64"
      ]
     },
     "execution_count": 15,
     "metadata": {},
     "output_type": "execute_result"
    }
   ],
   "source": [
    "cars['WarrantyCost'].quantile([0, .25, .5, .75, 1]) "
   ]
  },
  {
   "cell_type": "markdown",
   "metadata": {},
   "source": [
    "#### IQR of WarrantyCost"
   ]
  },
  {
   "cell_type": "code",
   "execution_count": 16,
   "metadata": {},
   "outputs": [
    {
     "data": {
      "text/plain": [
       "789.0"
      ]
     },
     "execution_count": 16,
     "metadata": {},
     "output_type": "execute_result"
    }
   ],
   "source": [
    "q75, q25 = np.percentile(cars['WarrantyCost'], [75 ,25])\n",
    "q75 - q25"
   ]
  },
  {
   "cell_type": "markdown",
   "metadata": {},
   "source": [
    "#### Boxplot of numeric variables: VehBCost and VehicleAge\n"
   ]
  },
  {
   "cell_type": "code",
   "execution_count": 18,
   "metadata": {},
   "outputs": [
    {
     "data": {
      "image/png": "[encoded data removed]",
      "text/plain": [
       "<Figure size 360x288 with 1 Axes>"
      ]
     },
     "metadata": {
      "needs_background": "light"
     },
     "output_type": "display_data"
    }
   ],
   "source": [
    "fig = plt.figure(figsize =(5, 4)) \n",
    "  \n",
    "#creating axes instance \n",
    "ax = fig.add_axes([0, 0, 1, 0.5]) \n",
    "  \n",
    "#creating plot \n",
    "bp = ax.boxplot(cars['VehBCost']) \n",
    "\n",
    "#adding the title to plot\n",
    "plt.title(\"Boxplot of VehBCost in the carAuction data set\") \n",
    "\n",
    "#show plot \n",
    "plt.show() "
   ]
  },
  {
   "cell_type": "code",
   "execution_count": 20,
   "metadata": {},
   "outputs": [
    {
     "data": {
      "image/png": "[encoded data removed]",
      "text/plain": [
       "<Figure size 360x288 with 1 Axes>"
      ]
     },
     "metadata": {
      "needs_background": "light"
     },
     "output_type": "display_data"
    }
   ],
   "source": [
    "fig = plt.figure(figsize =(5, 4)) \n",
    "  \n",
    "#creating axes instance \n",
    "ax = fig.add_axes([0, 0, 1, 0.5]) \n",
    "  \n",
    "#creating plot \n",
    "bp = ax.boxplot(cars['VehicleAge']) \n",
    "\n",
    "#adding the title to plot\n",
    "plt.title(\"Boxplot of VehicleAge in the carAuction data set\") \n",
    "\n",
    "#show plot \n",
    "plt.show() "
   ]
  },
  {
   "cell_type": "markdown",
   "metadata": {},
   "source": [
    "#### Histograms of VehOdo\n"
   ]
  },
  {
   "cell_type": "code",
   "execution_count": 22,
   "metadata": {
    "scrolled": true
   },
   "outputs": [
    {
     "data": {
      "text/plain": [
       "Text(0, 0.5, 'Frequency')"
      ]
     },
     "execution_count": 22,
     "metadata": {},
     "output_type": "execute_result"
    },
    {
     "data": {
      "image/png": "[encoded data removed]",
      "text/plain": [
       "<Figure size 432x288 with 1 Axes>"
      ]
     },
     "metadata": {
      "needs_background": "light"
     },
     "output_type": "display_data"
    }
   ],
   "source": [
    "# using surges here for bins to match histograms as R plots.\n",
    "plt.hist(cars['VehOdo'], bins=\"sturges\",rwidth=0.9) \n",
    "plt.title('Histogram of VehOdo in the carAuction data set')\n",
    "plt.xlabel('VehOdo')\n",
    "plt.ylabel('Frequency')"
   ]
  },
  {
   "cell_type": "markdown",
   "metadata": {},
   "source": [
    "#### Display the number of cars in different WheelType\n"
   ]
  },
  {
   "cell_type": "code",
   "execution_count": 24,
   "metadata": {
    "scrolled": false
   },
   "outputs": [
    {
     "data": {
      "text/plain": [
       "Special         97\n",
       "unkwnWheel     446\n",
       "Covers        4536\n",
       "Alloy         4921\n",
       "Name: WheelType, dtype: int64"
      ]
     },
     "execution_count": 24,
     "metadata": {},
     "output_type": "execute_result"
    }
   ],
   "source": [
    "cars[\"WheelType\"].value_counts()\n",
    "cars[\"WheelType\"].value_counts().sort_values()"
   ]
  },
  {
   "cell_type": "markdown",
   "metadata": {},
   "source": [
    "#### Display the proportion of cars in different WheelType\n"
   ]
  },
  {
   "cell_type": "code",
   "execution_count": 38,
   "metadata": {
    "scrolled": true
   },
   "outputs": [
    {
     "data": {
      "text/plain": [
       "Alloy         0.4921\n",
       "Covers        0.4536\n",
       "unkwnWheel    0.0446\n",
       "Special       0.0097\n",
       "Name: WheelType, dtype: float64"
      ]
     },
     "execution_count": 38,
     "metadata": {},
     "output_type": "execute_result"
    }
   ],
   "source": [
    "cars[\"WheelType\"].value_counts() / len(cars)"
   ]
  },
  {
   "cell_type": "markdown",
   "metadata": {},
   "source": [
    "#### Scatter plot: VehBCost and MMRCurrentAuctionAveragePrice"
   ]
  },
  {
   "cell_type": "code",
   "execution_count": 27,
   "metadata": {
    "scrolled": false
   },
   "outputs": [
    {
     "data": {
      "text/plain": [
       "Text(0, 0.5, 'MMRCurrentAuctionAveragePrice')"
      ]
     },
     "execution_count": 27,
     "metadata": {},
     "output_type": "execute_result"
    },
    {
     "data": {
      "image/png": "[encoded data removed]",
      "text/plain": [
       "<Figure size 432x288 with 1 Axes>"
      ]
     },
     "metadata": {
      "needs_background": "light"
     },
     "output_type": "display_data"
    }
   ],
   "source": [
    "plt.scatter(cars['VehBCost'], cars['MMRCurrentAuctionAveragePrice'])\n",
    "plt.title('Scatter plot')\n",
    "plt.xlabel('VehBCost')\n",
    "plt.ylabel('MMRCurrentAuctionAveragePrice')"
   ]
  },
  {
   "cell_type": "markdown",
   "metadata": {},
   "source": [
    "#### Generate correlation coefficients of VehBCost and MMRCurrentAuctionAveragePrice\n"
   ]
  },
  {
   "cell_type": "code",
   "execution_count": 28,
   "metadata": {
    "scrolled": true
   },
   "outputs": [
    {
     "data": {
      "text/html": [
       "<div>\n",
       "<style scoped>\n",
       "    .dataframe tbody tr th:only-of-type {\n",
       "        vertical-align: middle;\n",
       "    }\n",
       "\n",
       "    .dataframe tbody tr th {\n",
       "        vertical-align: top;\n",
       "    }\n",
       "\n",
       "    .dataframe thead th {\n",
       "        text-align: right;\n",
       "    }\n",
       "</style>\n",
       "<table border=\"1\" class=\"dataframe\">\n",
       "  <thead>\n",
       "    <tr style=\"text-align: right;\">\n",
       "      <th></th>\n",
       "      <th>VehBCost</th>\n",
       "      <th>MMRCurrentAuctionAveragePrice</th>\n",
       "    </tr>\n",
       "  </thead>\n",
       "  <tbody>\n",
       "    <tr>\n",
       "      <th>VehBCost</th>\n",
       "      <td>1.00000</td>\n",
       "      <td>0.76973</td>\n",
       "    </tr>\n",
       "    <tr>\n",
       "      <th>MMRCurrentAuctionAveragePrice</th>\n",
       "      <td>0.76973</td>\n",
       "      <td>1.00000</td>\n",
       "    </tr>\n",
       "  </tbody>\n",
       "</table>\n",
       "</div>"
      ],
      "text/plain": [
       "                               VehBCost  MMRCurrentAuctionAveragePrice\n",
       "VehBCost                        1.00000                        0.76973\n",
       "MMRCurrentAuctionAveragePrice   0.76973                        1.00000"
      ]
     },
     "execution_count": 28,
     "metadata": {},
     "output_type": "execute_result"
    }
   ],
   "source": [
    "pd.DataFrame(cars, columns=['VehBCost','MMRCurrentAuctionAveragePrice']).corr()"
   ]
  },
  {
   "cell_type": "markdown",
   "metadata": {},
   "source": [
    "#### Generate the correlation matrix of all numeric variables\n"
   ]
  },
  {
   "cell_type": "code",
   "execution_count": 30,
   "metadata": {
    "scrolled": false
   },
   "outputs": [
    {
     "data": {
      "text/html": [
       "<div>\n",
       "<style scoped>\n",
       "    .dataframe tbody tr th:only-of-type {\n",
       "        vertical-align: middle;\n",
       "    }\n",
       "\n",
       "    .dataframe tbody tr th {\n",
       "        vertical-align: top;\n",
       "    }\n",
       "\n",
       "    .dataframe thead th {\n",
       "        text-align: right;\n",
       "    }\n",
       "</style>\n",
       "<table border=\"1\" class=\"dataframe\">\n",
       "  <thead>\n",
       "    <tr style=\"text-align: right;\">\n",
       "      <th></th>\n",
       "      <th>MMRCurrentAuctionAveragePrice</th>\n",
       "      <th>VehBCost</th>\n",
       "      <th>VehicleAge</th>\n",
       "      <th>VehOdo</th>\n",
       "      <th>WarrantyCost</th>\n",
       "    </tr>\n",
       "  </thead>\n",
       "  <tbody>\n",
       "    <tr>\n",
       "      <th>MMRCurrentAuctionAveragePrice</th>\n",
       "      <td>1.000000</td>\n",
       "      <td>0.769730</td>\n",
       "      <td>-0.577359</td>\n",
       "      <td>-0.037073</td>\n",
       "      <td>-0.077053</td>\n",
       "    </tr>\n",
       "    <tr>\n",
       "      <th>VehBCost</th>\n",
       "      <td>0.769730</td>\n",
       "      <td>1.000000</td>\n",
       "      <td>-0.310686</td>\n",
       "      <td>-0.077119</td>\n",
       "      <td>-0.053829</td>\n",
       "    </tr>\n",
       "    <tr>\n",
       "      <th>VehicleAge</th>\n",
       "      <td>-0.577359</td>\n",
       "      <td>-0.310686</td>\n",
       "      <td>1.000000</td>\n",
       "      <td>0.326279</td>\n",
       "      <td>0.267594</td>\n",
       "    </tr>\n",
       "    <tr>\n",
       "      <th>VehOdo</th>\n",
       "      <td>-0.037073</td>\n",
       "      <td>-0.077119</td>\n",
       "      <td>0.326279</td>\n",
       "      <td>1.000000</td>\n",
       "      <td>0.404092</td>\n",
       "    </tr>\n",
       "    <tr>\n",
       "      <th>WarrantyCost</th>\n",
       "      <td>-0.077053</td>\n",
       "      <td>-0.053829</td>\n",
       "      <td>0.267594</td>\n",
       "      <td>0.404092</td>\n",
       "      <td>1.000000</td>\n",
       "    </tr>\n",
       "  </tbody>\n",
       "</table>\n",
       "</div>"
      ],
      "text/plain": [
       "                               MMRCurrentAuctionAveragePrice  VehBCost  \\\n",
       "MMRCurrentAuctionAveragePrice                       1.000000  0.769730   \n",
       "VehBCost                                            0.769730  1.000000   \n",
       "VehicleAge                                         -0.577359 -0.310686   \n",
       "VehOdo                                             -0.037073 -0.077119   \n",
       "WarrantyCost                                       -0.077053 -0.053829   \n",
       "\n",
       "                               VehicleAge    VehOdo  WarrantyCost  \n",
       "MMRCurrentAuctionAveragePrice   -0.577359 -0.037073     -0.077053  \n",
       "VehBCost                        -0.310686 -0.077119     -0.053829  \n",
       "VehicleAge                       1.000000  0.326279      0.267594  \n",
       "VehOdo                           0.326279  1.000000      0.404092  \n",
       "WarrantyCost                     0.267594  0.404092      1.000000  "
      ]
     },
     "execution_count": 30,
     "metadata": {},
     "output_type": "execute_result"
    }
   ],
   "source": [
    "pd.DataFrame(cars, columns=['MMRCurrentAuctionAveragePrice','VehBCost','VehicleAge','VehOdo','WarrantyCost']).corr()"
   ]
  },
  {
   "cell_type": "markdown",
   "metadata": {},
   "source": [
    "#### Boxplot VehBCost based on IsBadBuy"
   ]
  },
  {
   "cell_type": "code",
   "execution_count": 37,
   "metadata": {
    "scrolled": true
   },
   "outputs": [
    {
     "data": {
      "text/plain": [
       "<matplotlib.axes._axes.Axes at 0x1fd347488e0>"
      ]
     },
     "execution_count": 37,
     "metadata": {},
     "output_type": "execute_result"
    },
    {
     "data": {
      "image/png": "[encoded data removed]",
      "text/plain": [
       "<Figure size 360x360 with 1 Axes>"
      ]
     },
     "metadata": {
      "needs_background": "light"
     },
     "output_type": "display_data"
    }
   ],
   "source": [
    "import seaborn as sns\n",
    "fig = plt.figure(figsize =(5, 5)) \n",
    "#creating axes instance \n",
    "ax = fig.add_axes([0, 0, 1, 0.5]) \n",
    "#adding the title to plot\n",
    "plt.title(\"Boxplot of VehBCost in the carAuction data setbased on IsBadBuy\") \n",
    "\n",
    "sns.boxplot(data=cars, y='VehBCost', x='IsBadBuy')"
   ]
  }
 ],
 "metadata": {
  "kernelspec": {
   "display_name": "Python 3",
   "language": "python",
   "name": "python3"
  },
  "language_info": {
   "codemirror_mode": {
    "name": "ipython",
    "version": 3
   },
   "file_extension": ".py",
   "mimetype": "text/x-python",
   "name": "python",
   "nbconvert_exporter": "python",
   "pygments_lexer": "ipython3",
   "version": "3.8.3"
  }
 },
 "nbformat": 4,
 "nbformat_minor": 4
}
